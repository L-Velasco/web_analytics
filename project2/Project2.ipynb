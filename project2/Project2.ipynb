{
 "cells": [
  {
   "cell_type": "markdown",
   "metadata": {},
   "source": []
  },
  {
   "cell_type": "markdown",
   "metadata": {},
   "source": [
    "## Introduction\n",
    "\n",
    "'Reduce the size of the network using a method such as the island method described in chapter 4 of social network analysis.\n",
    "What can you infer about each of the distinct groups?'\n",
    "\n",
    "Blah blah -- little bit about thedata set and emphaizimng how it is a bipartite network\n",
    "\n",
    "Load required libraries:"
   ]
  },
  {
   "cell_type": "code",
   "execution_count": 29,
   "metadata": {},
   "outputs": [],
   "source": [
    "import pandas as pd\n",
    "# import numpy as np\n",
    "# import math\n",
    "import networkx as nx\n",
    "import matplotlib.pyplot as plt\n",
    "%matplotlib inline\n",
    "import networkx.algorithms.bipartite as bp"
   ]
  },
  {
   "cell_type": "markdown",
   "metadata": {},
   "source": [
    "The data set is a CSV, load it:"
   ]
  },
  {
   "cell_type": "code",
   "execution_count": 30,
   "metadata": {
    "scrolled": true
   },
   "outputs": [
    {
     "data": {
      "text/html": [
       "<div>\n",
       "<style scoped>\n",
       "    .dataframe tbody tr th:only-of-type {\n",
       "        vertical-align: middle;\n",
       "    }\n",
       "\n",
       "    .dataframe tbody tr th {\n",
       "        vertical-align: top;\n",
       "    }\n",
       "\n",
       "    .dataframe thead th {\n",
       "        text-align: right;\n",
       "    }\n",
       "</style>\n",
       "<table border=\"1\" class=\"dataframe\">\n",
       "  <thead>\n",
       "    <tr style=\"text-align: right;\">\n",
       "      <th></th>\n",
       "      <th>user_id</th>\n",
       "      <th>product_id</th>\n",
       "      <th>rating</th>\n",
       "      <th>timestamp</th>\n",
       "    </tr>\n",
       "  </thead>\n",
       "  <tbody>\n",
       "    <tr>\n",
       "      <th>0</th>\n",
       "      <td>A2UESEUCI73CBO</td>\n",
       "      <td>0078800242</td>\n",
       "      <td>5.0</td>\n",
       "      <td>1374192000</td>\n",
       "    </tr>\n",
       "    <tr>\n",
       "      <th>1</th>\n",
       "      <td>A3BBNK2R5TUYGV</td>\n",
       "      <td>0113000316</td>\n",
       "      <td>5.0</td>\n",
       "      <td>1359417600</td>\n",
       "    </tr>\n",
       "    <tr>\n",
       "      <th>2</th>\n",
       "      <td>A5J78T14FJ5DU</td>\n",
       "      <td>0113000316</td>\n",
       "      <td>3.0</td>\n",
       "      <td>1318723200</td>\n",
       "    </tr>\n",
       "    <tr>\n",
       "      <th>3</th>\n",
       "      <td>A2P462UH5L6T57</td>\n",
       "      <td>043928631X</td>\n",
       "      <td>5.0</td>\n",
       "      <td>1356912000</td>\n",
       "    </tr>\n",
       "    <tr>\n",
       "      <th>4</th>\n",
       "      <td>A2E0X1MWNRTQF4</td>\n",
       "      <td>0439340039</td>\n",
       "      <td>1.0</td>\n",
       "      <td>1379721600</td>\n",
       "    </tr>\n",
       "  </tbody>\n",
       "</table>\n",
       "</div>"
      ],
      "text/plain": [
       "          user_id  product_id  rating   timestamp\n",
       "0  A2UESEUCI73CBO  0078800242     5.0  1374192000\n",
       "1  A3BBNK2R5TUYGV  0113000316     5.0  1359417600\n",
       "2   A5J78T14FJ5DU  0113000316     3.0  1318723200\n",
       "3  A2P462UH5L6T57  043928631X     5.0  1356912000\n",
       "4  A2E0X1MWNRTQF4  0439340039     1.0  1379721600"
      ]
     },
     "execution_count": 30,
     "metadata": {},
     "output_type": "execute_result"
    }
   ],
   "source": [
    "df = pd.read_csv('rec-amz-Office-Products.edges', header=None,\n",
    "                 names=['user_id', 'product_id', 'rating', 'timestamp'])\n",
    "df.head()"
   ]
  },
  {
   "cell_type": "markdown",
   "metadata": {},
   "source": [
    "Now convert to a bipartite graph network:"
   ]
  },
  {
   "cell_type": "code",
   "execution_count": 32,
   "metadata": {},
   "outputs": [],
   "source": [
    "# Break into components\n",
    "edges = df[['user_id', 'product_id', 'rating']].values.tolist()\n",
    "nodes_0 = list(set(df['user_id'].values.tolist()))\n",
    "nodes_1 = list(set(df['product_id'].values.tolist()))"
   ]
  },
  {
   "cell_type": "code",
   "execution_count": 33,
   "metadata": {},
   "outputs": [
    {
     "data": {
      "text/plain": [
       "['B00K8L0IL2', 'B00006OAK3', 'B0009K6UAU', 'B0055YQTLA', 'B002UQO44U']"
      ]
     },
     "execution_count": 33,
     "metadata": {},
     "output_type": "execute_result"
    }
   ],
   "source": [
    "nodes_1[0:5]"
   ]
  },
  {
   "cell_type": "code",
   "execution_count": 34,
   "metadata": {},
   "outputs": [],
   "source": [
    "# Create bipartite graph with weighted edges\n",
    "g = nx.Graph()\n",
    "g.add_nodes_from(nodes_0, bipartite=0) # Add the node attribute “bipartite”\n",
    "g.add_nodes_from(nodes_1, bipartite=1)\n",
    "#g.add_edges_from(edges)\n",
    "g.add_weighted_edges_from(edges)"
   ]
  },
  {
   "cell_type": "markdown",
   "metadata": {},
   "source": [
    "## Island method\n",
    "\n",
    "Here we'll use the island method to reveal where the most important sections of the graph are.\n",
    "\n",
    "First, let's apply a threshold to remove lesser valued nodes:"
   ]
  },
  {
   "cell_type": "code",
   "execution_count": null,
   "metadata": {},
   "outputs": [],
   "source": [
    "def trim_edges(g, weight=1):\n",
    "    g2=nx.Graph()\n",
    "    for f, to, edata in g.edges(data=True):\n",
    "        if edata['weight'] > weight:\n",
    "            g2.add_edge(f,to,edata)\n",
    "    return g2\n",
    "    \n",
    "x = trim_edges(g)"
   ]
  },
  {
   "cell_type": "code",
   "execution_count": null,
   "metadata": {},
   "outputs": [],
   "source": []
  },
  {
   "cell_type": "code",
   "execution_count": null,
   "metadata": {},
   "outputs": [],
   "source": []
  },
  {
   "cell_type": "code",
   "execution_count": null,
   "metadata": {},
   "outputs": [],
   "source": []
  },
  {
   "cell_type": "markdown",
   "metadata": {},
   "source": [
    "## Second attempt\n",
    "\n",
    "I'm not sure we can usethe rating for the island method. I'm going to count up all the times a user purchased an item, and use that as the weight. Maybe that will work better."
   ]
  },
  {
   "cell_type": "code",
   "execution_count": 70,
   "metadata": {},
   "outputs": [
    {
     "data": {
      "text/html": [
       "<div>\n",
       "<style scoped>\n",
       "    .dataframe tbody tr th:only-of-type {\n",
       "        vertical-align: middle;\n",
       "    }\n",
       "\n",
       "    .dataframe tbody tr th {\n",
       "        vertical-align: top;\n",
       "    }\n",
       "\n",
       "    .dataframe thead th {\n",
       "        text-align: right;\n",
       "    }\n",
       "</style>\n",
       "<table border=\"1\" class=\"dataframe\">\n",
       "  <thead>\n",
       "    <tr style=\"text-align: right;\">\n",
       "      <th></th>\n",
       "      <th>user_id</th>\n",
       "      <th>product_id</th>\n",
       "      <th>rating</th>\n",
       "      <th>timestamp</th>\n",
       "    </tr>\n",
       "  </thead>\n",
       "  <tbody>\n",
       "    <tr>\n",
       "      <th>0</th>\n",
       "      <td>A00001483M88NBD66LEP0</td>\n",
       "      <td>B004WPCQKG</td>\n",
       "      <td>1</td>\n",
       "      <td>1</td>\n",
       "    </tr>\n",
       "    <tr>\n",
       "      <th>1</th>\n",
       "      <td>A0001028APITAYQ44NF3</td>\n",
       "      <td>B00006IDP4</td>\n",
       "      <td>1</td>\n",
       "      <td>1</td>\n",
       "    </tr>\n",
       "    <tr>\n",
       "      <th>2</th>\n",
       "      <td>A0002382258OFJJ2UYNTR</td>\n",
       "      <td>B0090684TE</td>\n",
       "      <td>1</td>\n",
       "      <td>1</td>\n",
       "    </tr>\n",
       "    <tr>\n",
       "      <th>3</th>\n",
       "      <td>A00031441FXF9AOR9AJK2</td>\n",
       "      <td>B000IV32JW</td>\n",
       "      <td>1</td>\n",
       "      <td>1</td>\n",
       "    </tr>\n",
       "    <tr>\n",
       "      <th>4</th>\n",
       "      <td>A00034361UHTFM5E7KU8Q</td>\n",
       "      <td>B004HDY822</td>\n",
       "      <td>1</td>\n",
       "      <td>1</td>\n",
       "    </tr>\n",
       "  </tbody>\n",
       "</table>\n",
       "</div>"
      ],
      "text/plain": [
       "                 user_id  product_id  rating  timestamp\n",
       "0  A00001483M88NBD66LEP0  B004WPCQKG       1          1\n",
       "1   A0001028APITAYQ44NF3  B00006IDP4       1          1\n",
       "2  A0002382258OFJJ2UYNTR  B0090684TE       1          1\n",
       "3  A00031441FXF9AOR9AJK2  B000IV32JW       1          1\n",
       "4  A00034361UHTFM5E7KU8Q  B004HDY822       1          1"
      ]
     },
     "execution_count": 70,
     "metadata": {},
     "output_type": "execute_result"
    }
   ],
   "source": [
    "df = pd.read_csv('rec-amz-Office-Products.edges', header=None)\n",
    "df.columns = ['user_id', 'product_id', 'rating', 'timestamp']\n",
    "\n",
    "df1 = df.groupby(['user_id', 'product_id']).agg('count').reset_index()\n",
    "df1.head()"
   ]
  },
  {
   "cell_type": "code",
   "execution_count": 72,
   "metadata": {},
   "outputs": [
    {
     "data": {
      "text/html": [
       "<div>\n",
       "<style scoped>\n",
       "    .dataframe tbody tr th:only-of-type {\n",
       "        vertical-align: middle;\n",
       "    }\n",
       "\n",
       "    .dataframe tbody tr th {\n",
       "        vertical-align: top;\n",
       "    }\n",
       "\n",
       "    .dataframe thead th {\n",
       "        text-align: right;\n",
       "    }\n",
       "</style>\n",
       "<table border=\"1\" class=\"dataframe\">\n",
       "  <thead>\n",
       "    <tr style=\"text-align: right;\">\n",
       "      <th></th>\n",
       "      <th>user_id</th>\n",
       "      <th>product_id</th>\n",
       "      <th>counts</th>\n",
       "    </tr>\n",
       "  </thead>\n",
       "  <tbody>\n",
       "    <tr>\n",
       "      <th>0</th>\n",
       "      <td>A00001483M88NBD66LEP0</td>\n",
       "      <td>B004WPCQKG</td>\n",
       "      <td>1</td>\n",
       "    </tr>\n",
       "    <tr>\n",
       "      <th>828793</th>\n",
       "      <td>A3IVBBP65MORRO</td>\n",
       "      <td>B0062TP4PE</td>\n",
       "      <td>1</td>\n",
       "    </tr>\n",
       "    <tr>\n",
       "      <th>828792</th>\n",
       "      <td>A3IVB0MFC9X67C</td>\n",
       "      <td>B004E3GODQ</td>\n",
       "      <td>1</td>\n",
       "    </tr>\n",
       "    <tr>\n",
       "      <th>828791</th>\n",
       "      <td>A3IVAOYAPS4978</td>\n",
       "      <td>B0032AN4O4</td>\n",
       "      <td>1</td>\n",
       "    </tr>\n",
       "    <tr>\n",
       "      <th>828790</th>\n",
       "      <td>A3IVANT0OLRXDJ</td>\n",
       "      <td>B004KMK5T0</td>\n",
       "      <td>1</td>\n",
       "    </tr>\n",
       "  </tbody>\n",
       "</table>\n",
       "</div>"
      ],
      "text/plain": [
       "                      user_id  product_id  counts\n",
       "0       A00001483M88NBD66LEP0  B004WPCQKG       1\n",
       "828793         A3IVBBP65MORRO  B0062TP4PE       1\n",
       "828792         A3IVB0MFC9X67C  B004E3GODQ       1\n",
       "828791         A3IVAOYAPS4978  B0032AN4O4       1\n",
       "828790         A3IVANT0OLRXDJ  B004KMK5T0       1"
      ]
     },
     "execution_count": 72,
     "metadata": {},
     "output_type": "execute_result"
    }
   ],
   "source": [
    "x = df.groupby(['user_id', 'product_id']).size().reset_index(name='counts').sort_values(by='counts', ascending=True)\n",
    "x.head()"
   ]
  },
  {
   "cell_type": "code",
   "execution_count": null,
   "metadata": {},
   "outputs": [],
   "source": []
  }
 ],
 "metadata": {
  "kernelspec": {
   "display_name": "Python 3",
   "language": "python",
   "name": "python3"
  },
  "language_info": {
   "codemirror_mode": {
    "name": "ipython",
    "version": 3
   },
   "file_extension": ".py",
   "mimetype": "text/x-python",
   "name": "python",
   "nbconvert_exporter": "python",
   "pygments_lexer": "ipython3",
   "version": "3.7.3"
  }
 },
 "nbformat": 4,
 "nbformat_minor": 2
}
